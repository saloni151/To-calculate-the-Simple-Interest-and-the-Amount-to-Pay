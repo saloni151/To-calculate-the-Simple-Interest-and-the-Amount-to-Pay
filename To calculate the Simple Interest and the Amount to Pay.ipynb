{
 "cells": [
  {
   "cell_type": "markdown",
   "id": "0c99e60f-fea8-468e-a6e0-9955e7f31bc0",
   "metadata": {},
   "source": [
    "**Write a python program which will calculate the simple interest and the amount to pay**"
   ]
  },
  {
   "cell_type": "code",
   "execution_count": 1,
   "id": "a9369995-c68c-430e-93f2-1d7e39f6da98",
   "metadata": {},
   "outputs": [
    {
     "name": "stdin",
     "output_type": "stream",
     "text": [
      "Enter the value of Principal:  500\n"
     ]
    }
   ],
   "source": [
    "#Taking the Principal value from the user\n",
    "P=float(input(\"Enter the value of Principal: \"))"
   ]
  },
  {
   "cell_type": "code",
   "execution_count": 2,
   "id": "e6c2f402-5e7e-41f9-9994-394943172aea",
   "metadata": {},
   "outputs": [
    {
     "name": "stdin",
     "output_type": "stream",
     "text": [
      "Enter the value of Rate of Interest in percent:  10\n"
     ]
    }
   ],
   "source": [
    "#Taking the Rate of Interest value from the user\n",
    "R=float(input(\"Enter the value of Rate of Interest in percent: \"))"
   ]
  },
  {
   "cell_type": "code",
   "execution_count": 3,
   "id": "63690e83-b752-42d7-b9fd-3436952fafa6",
   "metadata": {},
   "outputs": [
    {
     "name": "stdin",
     "output_type": "stream",
     "text": [
      "Enter the Time duration in years:  5\n"
     ]
    }
   ],
   "source": [
    "#Taking the Time duration value from the user\n",
    "T=float(input(\"Enter the Time duration in years: \"))"
   ]
  },
  {
   "cell_type": "code",
   "execution_count": 4,
   "id": "aade8a33-4d83-4010-a695-5e206341237e",
   "metadata": {},
   "outputs": [],
   "source": [
    "# Calculating the Simple interest by using the formula\n",
    "SI = (P*R*T)/100"
   ]
  },
  {
   "cell_type": "code",
   "execution_count": 5,
   "id": "66a15fa3-549c-49a4-b885-5bcd6226107e",
   "metadata": {},
   "outputs": [],
   "source": [
    "#Calculating the Amount to pay by using the formula\n",
    "A= P+SI"
   ]
  },
  {
   "cell_type": "code",
   "execution_count": 6,
   "id": "bf736dfa-5a77-40fd-aeaa-25e898f7ee42",
   "metadata": {},
   "outputs": [
    {
     "name": "stdout",
     "output_type": "stream",
     "text": [
      "The value of Principal (P) is:500.0\n"
     ]
    }
   ],
   "source": [
    "#To display the Principal value\n",
    "print(\"The value of Principal (P) is:{}\".format(P))"
   ]
  },
  {
   "cell_type": "code",
   "execution_count": 7,
   "id": "55cecdcf-9e88-44a8-a37b-4736879c76bc",
   "metadata": {},
   "outputs": [
    {
     "name": "stdout",
     "output_type": "stream",
     "text": [
      "The value of Rate of Interest in percent (R) is:10.0\n"
     ]
    }
   ],
   "source": [
    "#To display the Rate of interest value in percent\n",
    "print(\"The value of Rate of Interest in percent (R) is:{}\".format(R))"
   ]
  },
  {
   "cell_type": "code",
   "execution_count": 8,
   "id": "00168da3-2165-4cde-b2e2-13a7ea8a9ee8",
   "metadata": {},
   "outputs": [
    {
     "name": "stdout",
     "output_type": "stream",
     "text": [
      "The value of Time durations in years (T) is:5.0\n"
     ]
    }
   ],
   "source": [
    "#To display the Time Durations in years value\n",
    "print(\"The value of Time durations in years (T) is:{}\".format(T))"
   ]
  },
  {
   "cell_type": "code",
   "execution_count": 9,
   "id": "daeedf20-6e51-4d13-aec3-b641a38320e3",
   "metadata": {},
   "outputs": [
    {
     "name": "stdout",
     "output_type": "stream",
     "text": [
      "The value of Simple Interest (SI) is:250.0\n"
     ]
    }
   ],
   "source": [
    "#To display the Simple Interest\n",
    "print(\"The value of Simple Interest (SI) is:{}\".format(SI))"
   ]
  },
  {
   "cell_type": "code",
   "execution_count": 10,
   "id": "8ece26f3-a542-4631-92e5-5f64c95b7a8b",
   "metadata": {},
   "outputs": [
    {
     "name": "stdout",
     "output_type": "stream",
     "text": [
      "The value of Amount to Pay (A) is:750.0\n"
     ]
    }
   ],
   "source": [
    "#To display the Ampount to Pay \n",
    "print(\"The value of Amount to Pay (A) is:{}\".format(A))"
   ]
  },
  {
   "cell_type": "code",
   "execution_count": null,
   "id": "e548042c-c710-42d7-accd-73c9eab9bf7b",
   "metadata": {},
   "outputs": [],
   "source": []
  },
  {
   "cell_type": "code",
   "execution_count": null,
   "id": "39544014-347e-4e2d-b1ac-23f2604eed97",
   "metadata": {},
   "outputs": [],
   "source": []
  },
  {
   "cell_type": "code",
   "execution_count": null,
   "id": "7a601beb-2c9c-4c88-8700-10c070b0f425",
   "metadata": {},
   "outputs": [],
   "source": []
  },
  {
   "cell_type": "code",
   "execution_count": null,
   "id": "77155a6b-b12b-4f55-87bb-952607c744ab",
   "metadata": {},
   "outputs": [],
   "source": []
  },
  {
   "cell_type": "code",
   "execution_count": null,
   "id": "77db96a2-0519-4e5d-88a4-27db54d6ee1e",
   "metadata": {},
   "outputs": [],
   "source": []
  },
  {
   "cell_type": "code",
   "execution_count": null,
   "id": "11aa66f0-d141-4b6e-ab1d-5e273d127581",
   "metadata": {},
   "outputs": [],
   "source": []
  },
  {
   "cell_type": "code",
   "execution_count": null,
   "id": "a2a53d7b-947d-495c-a9d0-9a655157b4fc",
   "metadata": {},
   "outputs": [],
   "source": []
  }
 ],
 "metadata": {
  "kernelspec": {
   "display_name": "Python 3 (ipykernel)",
   "language": "python",
   "name": "python3"
  },
  "language_info": {
   "codemirror_mode": {
    "name": "ipython",
    "version": 3
   },
   "file_extension": ".py",
   "mimetype": "text/x-python",
   "name": "python",
   "nbconvert_exporter": "python",
   "pygments_lexer": "ipython3",
   "version": "3.12.7"
  }
 },
 "nbformat": 4,
 "nbformat_minor": 5
}
